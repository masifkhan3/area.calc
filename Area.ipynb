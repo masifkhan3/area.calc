import streamlit as st
import math

# Function to calculate the area of a given shape
def calculate_area(shape, dimensions):
    if shape == 'Circle':
        r = dimensions['radius']
        area = math.pi * (r ** 2)
    elif shape == 'Rectangle':
        l = dimensions['length']
        w = dimensions['width']
        area = l * w
    elif shape == 'Triangle':
        b = dimensions['base']
        h = dimensions['height']
        area = 0.5 * b * h
    elif shape == 'Trapezoid':
        a = dimensions['base1']
        b = dimensions['base2']
        h = dimensions['height']
        area = 0.5 * (a + b) * h
    elif shape == 'Square':
        s = dimensions['side']
        area = s ** 2
    elif shape == 'Parallelogram':
        b = dimensions['base']
        h = dimensions['height']
        area = b * h
    else:
        return "Shape not recognized."
    return area

def main():
    # App title and sidebar with inputs
    st.sidebar.title("Shape Area Calculator")
    st.sidebar.markdown("## Choose a shape and provide dimensions:")

    # Adding developer name in the sidebar
    st.sidebar.markdown("### Developed by: Your Name")

    # Select shape in the sidebar
    shape = st.sidebar.selectbox(
        "Select a shape:",
        ("Circle", "Rectangle", "Triangle", "Trapezoid", "Square", "Parallelogram")
    )

    # Dictionary to store shape dimensions
    dimensions = {}

    # Displaying appropriate input fields for the selected shape
    st.header(f"Calculate the area of a {shape}")
    
    if shape == 'Circle':
        dimensions['radius'] = st.slider("Radius (r):", min_value=0.0, max_value=100.0, step=0.1)

    elif shape == 'Rectangle':
        dimensions['length'] = st.slider("Length (l):", min_value=0.0, max_value=100.0, step=0.1)
        dimensions['width'] = st.slider("Width (w):", min_value=0.0, max_value=100.0, step=0.1)

    elif shape == 'Triangle':
        dimensions['base'] = st.slider("Base (b):", min_value=0.0, max_value=100.0, step=0.1)
        dimensions['height'] = st.slider("Height (h):", min_value=0.0, max_value=100.0, step=0.1)

    elif shape == 'Trapezoid':
        dimensions['base1'] = st.slider("Base 1 (a):", min_value=0.0, max_value=100.0, step=0.1)
        dimensions['base2'] = st.slider("Base 2 (b):", min_value=0.0, max_value=100.0, step=0.1)
        dimensions['height'] = st.slider("Height (h):", min_value=0.0, max_value=100.0, step=0.1)

    elif shape == 'Square':
        dimensions['side'] = st.slider("Side length (s):", min_value=0.0, max_value=100.0, step=0.1)

    elif shape == 'Parallelogram':
        dimensions['base'] = st.slider("Base (b):", min_value=0.0, max_value=100.0, step=0.1)
        dimensions['height'] = st.slider("Height (h):", min_value=0.0, max_value=100.0, step=0.1)

    # Button to calculate the area
    if st.button("Calculate Area"):
        area = calculate_area(shape, dimensions)
        st.success(f"The area of the {shape} is: {area:.2f} square units")

    # Display developer name at the bottom of the page
    st.markdown("---")
    st.markdown("### Developed by: Your Name")
    
    # Additional styling or thank you note can be added
    st.markdown("*Thank you for using the Area Calculator!*")

if __name__ == "__main__":
    main()
